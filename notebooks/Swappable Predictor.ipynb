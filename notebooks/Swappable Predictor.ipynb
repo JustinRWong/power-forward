{
 "cells": [
  {
   "cell_type": "code",
   "execution_count": 523,
   "metadata": {},
   "outputs": [],
   "source": [
    "import warnings\n",
    "warnings.filterwarnings('ignore')\n",
    "\n",
    "import numpy as np\n",
    "import pandas as pd\n",
    "import seaborn as sns\n",
    "from matplotlib import pyplot as plt\n",
    "\n",
    "from sklearn.utils import resample\n",
    "from sklearn.model_selection import train_test_split\n",
    "from sklearn.metrics import mean_squared_error, r2_score, confusion_matrix\n",
    "\n",
    "## Load the required modules\n",
    "from sklearn import metrics\n",
    "from sklearn.pipeline import Pipeline\n",
    "from sklearn.preprocessing import StandardScaler, MinMaxScaler\n",
    "from sklearn.linear_model import Ridge, LinearRegression,LogisticRegression\n",
    "from sklearn.neighbors import KNeighborsClassifier\n",
    "from sklearn.svm import SVC, LinearSVC\n",
    "from sklearn.tree import DecisionTreeClassifier\n",
    "from sklearn.ensemble import RandomForestClassifier, AdaBoostClassifier\n",
    "from sklearn.model_selection import train_test_split, StratifiedKFold, validation_curve, cross_val_score, GridSearchCV\n",
    "from matplotlib import pyplot as plt\n",
    "from timeit import default_timer as timer\n",
    "from tensorflow import keras\n",
    "from tensorflow.python.framework.ops import disable_eager_execution\n",
    "from tensorflow.keras.backend import clear_session\n",
    "\n",
    "disable_eager_execution()"
   ]
  },
  {
   "cell_type": "markdown",
   "metadata": {},
   "source": [
    "# Loading and Preparing the data\n"
   ]
  },
  {
   "cell_type": "code",
   "execution_count": 524,
   "metadata": {},
   "outputs": [],
   "source": [
    "combined_y = pd.read_csv('utilization_rates_data/combined_final.csv')\n",
    "\n",
    "dump_cols = ['day_of_week_num', 'hour', 'minutes', 'seconds', 'weektime_series',\n",
    "            'useless', 'Unnamed: 0','Unnamed: 0_x', 'Unnamed: 0_y']\n",
    "combined_y = combined_y.drop(dump_cols, axis=1)\n",
    "combined_y = combined_y[(combined_y['address']!='388 9th St') & (combined_y['address']!='435 Hawthorne Ave')]\n"
   ]
  },
  {
   "cell_type": "code",
   "execution_count": 525,
   "metadata": {},
   "outputs": [
    {
     "data": {
      "text/html": [
       "<div>\n",
       "<style scoped>\n",
       "    .dataframe tbody tr th:only-of-type {\n",
       "        vertical-align: middle;\n",
       "    }\n",
       "\n",
       "    .dataframe tbody tr th {\n",
       "        vertical-align: top;\n",
       "    }\n",
       "\n",
       "    .dataframe thead th {\n",
       "        text-align: right;\n",
       "    }\n",
       "</style>\n",
       "<table border=\"1\" class=\"dataframe\">\n",
       "  <thead>\n",
       "    <tr style=\"text-align: right;\">\n",
       "      <th></th>\n",
       "      <th>address</th>\n",
       "      <th>final_y</th>\n",
       "      <th>address</th>\n",
       "    </tr>\n",
       "  </thead>\n",
       "  <tbody>\n",
       "    <tr>\n",
       "      <th>40</th>\n",
       "      <td>101 Oyster Point Blvd</td>\n",
       "      <td>8.333333</td>\n",
       "      <td>101 Oyster Point Blvd</td>\n",
       "    </tr>\n",
       "    <tr>\n",
       "      <th>85</th>\n",
       "      <td>501 6th St</td>\n",
       "      <td>8.000000</td>\n",
       "      <td>501 6th St</td>\n",
       "    </tr>\n",
       "    <tr>\n",
       "      <th>63</th>\n",
       "      <td>2420 Ashby Ave</td>\n",
       "      <td>7.156342</td>\n",
       "      <td>2420 Ashby Ave</td>\n",
       "    </tr>\n",
       "    <tr>\n",
       "      <th>27</th>\n",
       "      <td>201 Gateway Blvd</td>\n",
       "      <td>6.000000</td>\n",
       "      <td>201 Gateway Blvd</td>\n",
       "    </tr>\n",
       "    <tr>\n",
       "      <th>34</th>\n",
       "      <td>Corporate Dr</td>\n",
       "      <td>6.000000</td>\n",
       "      <td>Corporate Dr</td>\n",
       "    </tr>\n",
       "    <tr>\n",
       "      <th>...</th>\n",
       "      <td>...</td>\n",
       "      <td>...</td>\n",
       "      <td>...</td>\n",
       "    </tr>\n",
       "    <tr>\n",
       "      <th>71</th>\n",
       "      <td>3300 College Dr</td>\n",
       "      <td>0.000000</td>\n",
       "      <td>3300 College Dr</td>\n",
       "    </tr>\n",
       "    <tr>\n",
       "      <th>72</th>\n",
       "      <td>333 El Camino Real</td>\n",
       "      <td>0.000000</td>\n",
       "      <td>333 El Camino Real</td>\n",
       "    </tr>\n",
       "    <tr>\n",
       "      <th>44</th>\n",
       "      <td>1260 Martin Luther King Jr Way</td>\n",
       "      <td>0.000000</td>\n",
       "      <td>1260 Martin Luther King Jr Way</td>\n",
       "    </tr>\n",
       "    <tr>\n",
       "      <th>17</th>\n",
       "      <td>333 E 8th St</td>\n",
       "      <td>0.000000</td>\n",
       "      <td>333 E 8th St</td>\n",
       "    </tr>\n",
       "    <tr>\n",
       "      <th>18</th>\n",
       "      <td>900 Fallon St</td>\n",
       "      <td>0.000000</td>\n",
       "      <td>900 Fallon St</td>\n",
       "    </tr>\n",
       "  </tbody>\n",
       "</table>\n",
       "<p>99 rows × 3 columns</p>\n",
       "</div>"
      ],
      "text/plain": [
       "                           address   final_y                         address\n",
       "40           101 Oyster Point Blvd  8.333333           101 Oyster Point Blvd\n",
       "85                      501 6th St  8.000000                      501 6th St\n",
       "63                  2420 Ashby Ave  7.156342                  2420 Ashby Ave\n",
       "27                201 Gateway Blvd  6.000000                201 Gateway Blvd\n",
       "34                    Corporate Dr  6.000000                    Corporate Dr\n",
       "..                             ...       ...                             ...\n",
       "71                 3300 College Dr  0.000000                 3300 College Dr\n",
       "72              333 El Camino Real  0.000000              333 El Camino Real\n",
       "44  1260 Martin Luther King Jr Way  0.000000  1260 Martin Luther King Jr Way\n",
       "17                    333 E 8th St  0.000000                    333 E 8th St\n",
       "18                   900 Fallon St  0.000000                   900 Fallon St\n",
       "\n",
       "[99 rows x 3 columns]"
      ]
     },
     "execution_count": 525,
     "metadata": {},
     "output_type": "execute_result"
    }
   ],
   "source": [
    "combined_y.sort_values(by='final_y', ascending=False)[['address', 'final_y', 'address']]"
   ]
  },
  {
   "cell_type": "code",
   "execution_count": 526,
   "metadata": {},
   "outputs": [
    {
     "data": {
      "text/html": [
       "<div>\n",
       "<style scoped>\n",
       "    .dataframe tbody tr th:only-of-type {\n",
       "        vertical-align: middle;\n",
       "    }\n",
       "\n",
       "    .dataframe tbody tr th {\n",
       "        vertical-align: top;\n",
       "    }\n",
       "\n",
       "    .dataframe thead th {\n",
       "        text-align: right;\n",
       "    }\n",
       "</style>\n",
       "<table border=\"1\" class=\"dataframe\">\n",
       "  <thead>\n",
       "    <tr style=\"text-align: right;\">\n",
       "      <th></th>\n",
       "      <th>connection_type</th>\n",
       "      <th>power_kwh</th>\n",
       "      <th>power_kwh_num</th>\n",
       "      <th>address</th>\n",
       "      <th>latitude</th>\n",
       "      <th>longitude</th>\n",
       "      <th>available_denominator</th>\n",
       "      <th>available_numerator</th>\n",
       "      <th>availability_rate</th>\n",
       "      <th>utilization_rate</th>\n",
       "      <th>...</th>\n",
       "      <th>store</th>\n",
       "      <th>school</th>\n",
       "      <th>gym</th>\n",
       "      <th>local_government_office</th>\n",
       "      <th>entertainment</th>\n",
       "      <th>transit_station</th>\n",
       "      <th>place_of_worship</th>\n",
       "      <th>doctor</th>\n",
       "      <th>point_of_interest</th>\n",
       "      <th>establishment</th>\n",
       "    </tr>\n",
       "  </thead>\n",
       "  <tbody>\n",
       "    <tr>\n",
       "      <th>0</th>\n",
       "      <td>CCS</td>\n",
       "      <td>29.8 kW</td>\n",
       "      <td>29.8</td>\n",
       "      <td>1103 Embarcadero</td>\n",
       "      <td>37.788209</td>\n",
       "      <td>-122.253026</td>\n",
       "      <td>1</td>\n",
       "      <td>0.979827</td>\n",
       "      <td>0.979827</td>\n",
       "      <td>0.020173</td>\n",
       "      <td>...</td>\n",
       "      <td>9</td>\n",
       "      <td>0</td>\n",
       "      <td>1</td>\n",
       "      <td>0</td>\n",
       "      <td>0</td>\n",
       "      <td>5</td>\n",
       "      <td>0</td>\n",
       "      <td>0</td>\n",
       "      <td>2</td>\n",
       "      <td>0</td>\n",
       "    </tr>\n",
       "    <tr>\n",
       "      <th>1</th>\n",
       "      <td>CCS</td>\n",
       "      <td>50 kW</td>\n",
       "      <td>50.0</td>\n",
       "      <td>1025 Gilman St</td>\n",
       "      <td>37.880724</td>\n",
       "      <td>-122.297818</td>\n",
       "      <td>2</td>\n",
       "      <td>1.532995</td>\n",
       "      <td>0.766497</td>\n",
       "      <td>0.233503</td>\n",
       "      <td>...</td>\n",
       "      <td>40</td>\n",
       "      <td>12</td>\n",
       "      <td>7</td>\n",
       "      <td>2</td>\n",
       "      <td>0</td>\n",
       "      <td>30</td>\n",
       "      <td>0</td>\n",
       "      <td>2</td>\n",
       "      <td>2</td>\n",
       "      <td>0</td>\n",
       "    </tr>\n",
       "    <tr>\n",
       "      <th>2</th>\n",
       "      <td>CCS</td>\n",
       "      <td>50 kW</td>\n",
       "      <td>50.0</td>\n",
       "      <td>1198 El Camino Real</td>\n",
       "      <td>37.555906</td>\n",
       "      <td>-122.318554</td>\n",
       "      <td>2</td>\n",
       "      <td>1.939210</td>\n",
       "      <td>0.969605</td>\n",
       "      <td>0.030395</td>\n",
       "      <td>...</td>\n",
       "      <td>8</td>\n",
       "      <td>11</td>\n",
       "      <td>4</td>\n",
       "      <td>0</td>\n",
       "      <td>0</td>\n",
       "      <td>4</td>\n",
       "      <td>0</td>\n",
       "      <td>5</td>\n",
       "      <td>2</td>\n",
       "      <td>0</td>\n",
       "    </tr>\n",
       "    <tr>\n",
       "      <th>3</th>\n",
       "      <td>CCS</td>\n",
       "      <td>50 kW</td>\n",
       "      <td>50.0</td>\n",
       "      <td>1227 Linda Mar Shopping Center</td>\n",
       "      <td>37.595175</td>\n",
       "      <td>-122.504069</td>\n",
       "      <td>2</td>\n",
       "      <td>1.857143</td>\n",
       "      <td>0.928571</td>\n",
       "      <td>0.071429</td>\n",
       "      <td>...</td>\n",
       "      <td>10</td>\n",
       "      <td>0</td>\n",
       "      <td>2</td>\n",
       "      <td>0</td>\n",
       "      <td>0</td>\n",
       "      <td>2</td>\n",
       "      <td>0</td>\n",
       "      <td>2</td>\n",
       "      <td>2</td>\n",
       "      <td>0</td>\n",
       "    </tr>\n",
       "    <tr>\n",
       "      <th>4</th>\n",
       "      <td>CCS</td>\n",
       "      <td>50 kW</td>\n",
       "      <td>50.0</td>\n",
       "      <td>230 Bay Pl</td>\n",
       "      <td>37.812769</td>\n",
       "      <td>-122.260998</td>\n",
       "      <td>4</td>\n",
       "      <td>3.349278</td>\n",
       "      <td>0.837320</td>\n",
       "      <td>0.162680</td>\n",
       "      <td>...</td>\n",
       "      <td>43</td>\n",
       "      <td>17</td>\n",
       "      <td>6</td>\n",
       "      <td>3</td>\n",
       "      <td>0</td>\n",
       "      <td>26</td>\n",
       "      <td>0</td>\n",
       "      <td>41</td>\n",
       "      <td>2</td>\n",
       "      <td>0</td>\n",
       "    </tr>\n",
       "    <tr>\n",
       "      <th>...</th>\n",
       "      <td>...</td>\n",
       "      <td>...</td>\n",
       "      <td>...</td>\n",
       "      <td>...</td>\n",
       "      <td>...</td>\n",
       "      <td>...</td>\n",
       "      <td>...</td>\n",
       "      <td>...</td>\n",
       "      <td>...</td>\n",
       "      <td>...</td>\n",
       "      <td>...</td>\n",
       "      <td>...</td>\n",
       "      <td>...</td>\n",
       "      <td>...</td>\n",
       "      <td>...</td>\n",
       "      <td>...</td>\n",
       "      <td>...</td>\n",
       "      <td>...</td>\n",
       "      <td>...</td>\n",
       "      <td>...</td>\n",
       "      <td>...</td>\n",
       "    </tr>\n",
       "    <tr>\n",
       "      <th>96</th>\n",
       "      <td>J1772</td>\n",
       "      <td>7.7 kW</td>\n",
       "      <td>7.7</td>\n",
       "      <td>5001 Junipero Serra Blvd</td>\n",
       "      <td>37.673841</td>\n",
       "      <td>-122.464239</td>\n",
       "      <td>2</td>\n",
       "      <td>1.021552</td>\n",
       "      <td>0.510776</td>\n",
       "      <td>0.489224</td>\n",
       "      <td>...</td>\n",
       "      <td>25</td>\n",
       "      <td>0</td>\n",
       "      <td>0</td>\n",
       "      <td>0</td>\n",
       "      <td>0</td>\n",
       "      <td>4</td>\n",
       "      <td>0</td>\n",
       "      <td>0</td>\n",
       "      <td>1</td>\n",
       "      <td>0</td>\n",
       "    </tr>\n",
       "    <tr>\n",
       "      <th>97</th>\n",
       "      <td>J1772</td>\n",
       "      <td>7.7 kW</td>\n",
       "      <td>7.7</td>\n",
       "      <td>523 Mulberry St</td>\n",
       "      <td>37.756594</td>\n",
       "      <td>-122.251475</td>\n",
       "      <td>2</td>\n",
       "      <td>0.482270</td>\n",
       "      <td>0.241135</td>\n",
       "      <td>0.758865</td>\n",
       "      <td>...</td>\n",
       "      <td>35</td>\n",
       "      <td>2</td>\n",
       "      <td>1</td>\n",
       "      <td>3</td>\n",
       "      <td>0</td>\n",
       "      <td>21</td>\n",
       "      <td>0</td>\n",
       "      <td>22</td>\n",
       "      <td>0</td>\n",
       "      <td>0</td>\n",
       "    </tr>\n",
       "    <tr>\n",
       "      <th>98</th>\n",
       "      <td>J1772</td>\n",
       "      <td>7.7 kW</td>\n",
       "      <td>7.7</td>\n",
       "      <td>5616 Bay St</td>\n",
       "      <td>37.834797</td>\n",
       "      <td>-122.291914</td>\n",
       "      <td>2</td>\n",
       "      <td>1.955882</td>\n",
       "      <td>0.977941</td>\n",
       "      <td>0.022059</td>\n",
       "      <td>...</td>\n",
       "      <td>27</td>\n",
       "      <td>0</td>\n",
       "      <td>0</td>\n",
       "      <td>2</td>\n",
       "      <td>0</td>\n",
       "      <td>11</td>\n",
       "      <td>0</td>\n",
       "      <td>1</td>\n",
       "      <td>1</td>\n",
       "      <td>0</td>\n",
       "    </tr>\n",
       "    <tr>\n",
       "      <th>99</th>\n",
       "      <td>J1772</td>\n",
       "      <td>7.7 kW</td>\n",
       "      <td>7.7</td>\n",
       "      <td>5795 Christie Ave</td>\n",
       "      <td>37.837864</td>\n",
       "      <td>-122.295603</td>\n",
       "      <td>2</td>\n",
       "      <td>1.367618</td>\n",
       "      <td>0.683809</td>\n",
       "      <td>0.316191</td>\n",
       "      <td>...</td>\n",
       "      <td>48</td>\n",
       "      <td>4</td>\n",
       "      <td>5</td>\n",
       "      <td>3</td>\n",
       "      <td>0</td>\n",
       "      <td>12</td>\n",
       "      <td>0</td>\n",
       "      <td>31</td>\n",
       "      <td>0</td>\n",
       "      <td>0</td>\n",
       "    </tr>\n",
       "    <tr>\n",
       "      <th>100</th>\n",
       "      <td>J1772</td>\n",
       "      <td>7.7 kW</td>\n",
       "      <td>7.7</td>\n",
       "      <td>8E Serramonte Center</td>\n",
       "      <td>37.672473</td>\n",
       "      <td>-122.471266</td>\n",
       "      <td>4</td>\n",
       "      <td>1.591760</td>\n",
       "      <td>0.397940</td>\n",
       "      <td>0.602060</td>\n",
       "      <td>...</td>\n",
       "      <td>21</td>\n",
       "      <td>1</td>\n",
       "      <td>0</td>\n",
       "      <td>0</td>\n",
       "      <td>0</td>\n",
       "      <td>15</td>\n",
       "      <td>0</td>\n",
       "      <td>18</td>\n",
       "      <td>0</td>\n",
       "      <td>0</td>\n",
       "    </tr>\n",
       "  </tbody>\n",
       "</table>\n",
       "<p>99 rows × 25 columns</p>\n",
       "</div>"
      ],
      "text/plain": [
       "    connection_type power_kwh  power_kwh_num                         address  \\\n",
       "0               CCS   29.8 kW           29.8                1103 Embarcadero   \n",
       "1               CCS     50 kW           50.0                  1025 Gilman St   \n",
       "2               CCS     50 kW           50.0             1198 El Camino Real   \n",
       "3               CCS     50 kW           50.0  1227 Linda Mar Shopping Center   \n",
       "4               CCS     50 kW           50.0                      230 Bay Pl   \n",
       "..              ...       ...            ...                             ...   \n",
       "96            J1772    7.7 kW            7.7        5001 Junipero Serra Blvd   \n",
       "97            J1772    7.7 kW            7.7                 523 Mulberry St   \n",
       "98            J1772    7.7 kW            7.7                     5616 Bay St   \n",
       "99            J1772    7.7 kW            7.7               5795 Christie Ave   \n",
       "100           J1772    7.7 kW            7.7            8E Serramonte Center   \n",
       "\n",
       "      latitude   longitude  available_denominator  available_numerator  \\\n",
       "0    37.788209 -122.253026                      1             0.979827   \n",
       "1    37.880724 -122.297818                      2             1.532995   \n",
       "2    37.555906 -122.318554                      2             1.939210   \n",
       "3    37.595175 -122.504069                      2             1.857143   \n",
       "4    37.812769 -122.260998                      4             3.349278   \n",
       "..         ...         ...                    ...                  ...   \n",
       "96   37.673841 -122.464239                      2             1.021552   \n",
       "97   37.756594 -122.251475                      2             0.482270   \n",
       "98   37.834797 -122.291914                      2             1.955882   \n",
       "99   37.837864 -122.295603                      2             1.367618   \n",
       "100  37.672473 -122.471266                      4             1.591760   \n",
       "\n",
       "     availability_rate  utilization_rate  ...  store  school  gym  \\\n",
       "0             0.979827          0.020173  ...      9       0    1   \n",
       "1             0.766497          0.233503  ...     40      12    7   \n",
       "2             0.969605          0.030395  ...      8      11    4   \n",
       "3             0.928571          0.071429  ...     10       0    2   \n",
       "4             0.837320          0.162680  ...     43      17    6   \n",
       "..                 ...               ...  ...    ...     ...  ...   \n",
       "96            0.510776          0.489224  ...     25       0    0   \n",
       "97            0.241135          0.758865  ...     35       2    1   \n",
       "98            0.977941          0.022059  ...     27       0    0   \n",
       "99            0.683809          0.316191  ...     48       4    5   \n",
       "100           0.397940          0.602060  ...     21       1    0   \n",
       "\n",
       "     local_government_office  entertainment  transit_station  \\\n",
       "0                          0              0                5   \n",
       "1                          2              0               30   \n",
       "2                          0              0                4   \n",
       "3                          0              0                2   \n",
       "4                          3              0               26   \n",
       "..                       ...            ...              ...   \n",
       "96                         0              0                4   \n",
       "97                         3              0               21   \n",
       "98                         2              0               11   \n",
       "99                         3              0               12   \n",
       "100                        0              0               15   \n",
       "\n",
       "     place_of_worship  doctor  point_of_interest  establishment  \n",
       "0                   0       0                  2              0  \n",
       "1                   0       2                  2              0  \n",
       "2                   0       5                  2              0  \n",
       "3                   0       2                  2              0  \n",
       "4                   0      41                  2              0  \n",
       "..                ...     ...                ...            ...  \n",
       "96                  0       0                  1              0  \n",
       "97                  0      22                  0              0  \n",
       "98                  0       1                  1              0  \n",
       "99                  0      31                  0              0  \n",
       "100                 0      18                  0              0  \n",
       "\n",
       "[99 rows x 25 columns]"
      ]
     },
     "execution_count": 526,
     "metadata": {},
     "output_type": "execute_result"
    }
   ],
   "source": [
    "combined_y\n",
    "## considere standarizing y columns and converting theem into tiers"
   ]
  },
  {
   "cell_type": "code",
   "execution_count": 527,
   "metadata": {},
   "outputs": [
    {
     "data": {
      "text/plain": [
       "Index(['connection_type', 'power_kwh', 'power_kwh_num', 'address', 'latitude',\n",
       "       'longitude', 'available_denominator', 'available_numerator',\n",
       "       'availability_rate', 'utilization_rate', 'total_output_kwh', 'final_y',\n",
       "       'lodging', 'supermarket', 'food', 'store', 'school', 'gym',\n",
       "       'local_government_office', 'entertainment', 'transit_station',\n",
       "       'place_of_worship', 'doctor', 'point_of_interest', 'establishment'],\n",
       "      dtype='object')"
      ]
     },
     "execution_count": 527,
     "metadata": {},
     "output_type": "execute_result"
    }
   ],
   "source": [
    "combined_y.columns"
   ]
  },
  {
   "cell_type": "code",
   "execution_count": 528,
   "metadata": {},
   "outputs": [
    {
     "ename": "ValueError",
     "evalue": "Unexpected kw arguments: dict_keys(['stratify'])",
     "output_type": "error",
     "traceback": [
      "\u001b[0;31m---------------------------------------------------------------------------\u001b[0m",
      "\u001b[0;31mValueError\u001b[0m                                Traceback (most recent call last)",
      "\u001b[0;32m<ipython-input-528-7588eb1434db>\u001b[0m in \u001b[0;36m<module>\u001b[0;34m\u001b[0m\n\u001b[1;32m     11\u001b[0m X_train_sample, y_train_sample = resample(X_train_full,y_train_full,\n\u001b[1;32m     12\u001b[0m                                           \u001b[0mreplace\u001b[0m\u001b[0;34m=\u001b[0m\u001b[0;32mFalse\u001b[0m\u001b[0;34m,\u001b[0m\u001b[0mn_samples\u001b[0m\u001b[0;34m=\u001b[0m\u001b[0;36m99\u001b[0m\u001b[0;34m,\u001b[0m\u001b[0;34m\u001b[0m\u001b[0;34m\u001b[0m\u001b[0m\n\u001b[0;32m---> 13\u001b[0;31m                                           stratify=y_train_full,random_state=0)\n\u001b[0m",
      "\u001b[0;32m/Library/Python/anaconda3/lib/python3.7/site-packages/sklearn/utils/__init__.py\u001b[0m in \u001b[0;36mresample\u001b[0;34m(*arrays, **options)\u001b[0m\n\u001b[1;32m    299\u001b[0m     \u001b[0mmax_n_samples\u001b[0m \u001b[0;34m=\u001b[0m \u001b[0moptions\u001b[0m\u001b[0;34m.\u001b[0m\u001b[0mpop\u001b[0m\u001b[0;34m(\u001b[0m\u001b[0;34m'n_samples'\u001b[0m\u001b[0;34m,\u001b[0m \u001b[0;32mNone\u001b[0m\u001b[0;34m)\u001b[0m\u001b[0;34m\u001b[0m\u001b[0;34m\u001b[0m\u001b[0m\n\u001b[1;32m    300\u001b[0m     \u001b[0;32mif\u001b[0m \u001b[0moptions\u001b[0m\u001b[0;34m:\u001b[0m\u001b[0;34m\u001b[0m\u001b[0;34m\u001b[0m\u001b[0m\n\u001b[0;32m--> 301\u001b[0;31m         \u001b[0;32mraise\u001b[0m \u001b[0mValueError\u001b[0m\u001b[0;34m(\u001b[0m\u001b[0;34m\"Unexpected kw arguments: %r\"\u001b[0m \u001b[0;34m%\u001b[0m \u001b[0moptions\u001b[0m\u001b[0;34m.\u001b[0m\u001b[0mkeys\u001b[0m\u001b[0;34m(\u001b[0m\u001b[0;34m)\u001b[0m\u001b[0;34m)\u001b[0m\u001b[0;34m\u001b[0m\u001b[0;34m\u001b[0m\u001b[0m\n\u001b[0m\u001b[1;32m    302\u001b[0m \u001b[0;34m\u001b[0m\u001b[0m\n\u001b[1;32m    303\u001b[0m     \u001b[0;32mif\u001b[0m \u001b[0mlen\u001b[0m\u001b[0;34m(\u001b[0m\u001b[0marrays\u001b[0m\u001b[0;34m)\u001b[0m \u001b[0;34m==\u001b[0m \u001b[0;36m0\u001b[0m\u001b[0;34m:\u001b[0m\u001b[0;34m\u001b[0m\u001b[0;34m\u001b[0m\u001b[0m\n",
      "\u001b[0;31mValueError\u001b[0m: Unexpected kw arguments: dict_keys(['stratify'])"
     ]
    }
   ],
   "source": [
    "X_train_cols = ['lodging', 'supermarket', 'food', 'store', 'school', 'gym',\n",
    "       'local_government_office', 'entertainment', 'transit_station',\n",
    "       'place_of_worship', 'doctor', 'point_of_interest', 'establishment']\n",
    "\n",
    "X_train_full = combined_y[X_train_cols]\n",
    "## y train can be adjusted as needed\n",
    "y_col = 'power_kwh_num' # utilization_rate\n",
    "y_train_full = combined_y[y_col]\n",
    "\n",
    "## Stratified Sampling\n",
    "X_train_sample, y_train_sample = resample(X_train_full,y_train_full,\n",
    "                                          replace=False,n_samples=99,\n",
    "                                          stratify=y_train_full,random_state=0)"
   ]
  },
  {
   "cell_type": "code",
   "execution_count": 457,
   "metadata": {},
   "outputs": [],
   "source": [
    "## Trainv-validation split \n",
    "X_train, X_test, y_train, y_test = train_test_split(X_train_sample, y_train_sample, test_size=0.2, random_state=0)\n",
    "\n"
   ]
  },
  {
   "cell_type": "code",
   "execution_count": 458,
   "metadata": {},
   "outputs": [
    {
     "data": {
      "text/plain": [
       "array([29.8 , 50.  , 62.5 , 40.5 ,  1.  , 16.6 ,  5.  ,  6.24,  6.7 ,\n",
       "        7.2 ,  7.7 ])"
      ]
     },
     "execution_count": 458,
     "metadata": {},
     "output_type": "execute_result"
    }
   ],
   "source": [
    "y_train_full.unique()"
   ]
  },
  {
   "cell_type": "code",
   "execution_count": 459,
   "metadata": {},
   "outputs": [
    {
     "name": "stdout",
     "output_type": "stream",
     "text": [
      "(79, 13) (20, 13)\n"
     ]
    },
    {
     "data": {
      "text/plain": [
       "<AxesSubplot:xlabel='power_kwh_num'>"
      ]
     },
     "execution_count": 459,
     "metadata": {},
     "output_type": "execute_result"
    },
    {
     "data": {
      "image/png": "[encoded data removed]",
      "text/plain": [
       "<Figure size 432x288 with 1 Axes>"
      ]
     },
     "metadata": {
      "needs_background": "light"
     },
     "output_type": "display_data"
    }
   ],
   "source": [
    "print(X_train.shape, X_test.shape)\n",
    "sns.distplot(y_train_full)"
   ]
  },
  {
   "cell_type": "code",
   "execution_count": 460,
   "metadata": {},
   "outputs": [
    {
     "data": {
      "text/plain": [
       "array([29.8 , 50.  , 62.5 , 40.5 ,  1.  , 16.6 ,  5.  ,  6.24,  6.7 ,\n",
       "        7.2 ,  7.7 ])"
      ]
     },
     "execution_count": 460,
     "metadata": {},
     "output_type": "execute_result"
    }
   ],
   "source": [
    "combined_y[y_col].unique()"
   ]
  },
  {
   "cell_type": "code",
   "execution_count": 461,
   "metadata": {},
   "outputs": [
    {
     "data": {
      "image/png": "[encoded data removed]",
      "text/plain": [
       "<Figure size 432x450 with 1 Axes>"
      ]
     },
     "metadata": {
      "needs_background": "light"
     },
     "output_type": "display_data"
    }
   ],
   "source": [
    "def corr_vis(df, features, meas='actual_voltage', rendered='spearman'):\n",
    "    ## Create a blank dataframe that calculates all the correlations to TOG\n",
    "    vis = pd.DataFrame()\n",
    "    vis['feature'] = features\n",
    "    corrs = ['spearman', 'kendall']\n",
    "    for c in corrs:\n",
    "        vis[c] = [df[f].corr(df[meas], c) for f in features]\n",
    "\n",
    "    vis = vis.sort_values(rendered)\n",
    "    plt.figure(figsize=(6, 0.25*len(features)))\n",
    "    ax = sns.barplot(data=vis, y='feature', x=rendered, orient='h')\n",
    "    \n",
    "    ## Chart design\n",
    "    ax.set(xlabel='correlation')\n",
    "    ax.set(title='Correlation of all features to {meas}'.format(meas=meas)) \n",
    "    return vis\n",
    "\n",
    "final_y_correlation_df = corr_vis(combined_y, combined_y.columns, meas=y_col)"
   ]
  },
  {
   "cell_type": "markdown",
   "metadata": {},
   "source": [
    "# Models"
   ]
  },
  {
   "cell_type": "code",
   "execution_count": 462,
   "metadata": {},
   "outputs": [],
   "source": [
    "comp = pd.DataFrame(y_train)\n",
    "comp_test = comp_test = pd.DataFrame(y_test)\n",
    "kf = StratifiedKFold(5,shuffle=True,random_state=0)"
   ]
  },
  {
   "cell_type": "code",
   "execution_count": 463,
   "metadata": {},
   "outputs": [],
   "source": [
    "def plot_cv_curve(hyperparm_grid,train_scores,val_scores):\n",
    "    '''\n",
    "    from hw2\n",
    "    '''\n",
    "    ax = plt.subplot(111)\n",
    "    ax.errorbar(hyperparm_grid,np.mean(train_scores,axis=1),yerr=np.std(train_scores,axis=1),label=\"train\")\n",
    "    ax.errorbar(hyperparm_grid,np.mean(val_scores,axis=1),yerr=np.std(val_scores,axis=1),label=\"validation\")\n",
    "    ax.set_xlabel('Hyperparameter')\n",
    "    ax.set_ylabel('Score')\n",
    "    ax.legend()\n",
    "    ax.grid()\n",
    "    return ax\n"
   ]
  },
  {
   "cell_type": "markdown",
   "metadata": {},
   "source": [
    "## Linear Regression"
   ]
  },
  {
   "cell_type": "code",
   "execution_count": 464,
   "metadata": {},
   "outputs": [
    {
     "data": {
      "text/plain": [
       "LinearRegression(copy_X=True, fit_intercept=True, n_jobs=None,\n",
       "         normalize=False)"
      ]
     },
     "execution_count": 464,
     "metadata": {},
     "output_type": "execute_result"
    }
   ],
   "source": [
    "reg_lm = LinearRegression()\n",
    "reg_lm.fit(X_train, y_train)\n"
   ]
  },
  {
   "cell_type": "code",
   "execution_count": 465,
   "metadata": {},
   "outputs": [],
   "source": [
    "comp['linear_reg_prediction'] = reg_lm.predict(X_train)\n",
    "comp_test['linear_reg_prediction'] = reg_lm.predict(X_test)"
   ]
  },
  {
   "cell_type": "code",
   "execution_count": 466,
   "metadata": {},
   "outputs": [
    {
     "data": {
      "text/html": [
       "<div>\n",
       "<style scoped>\n",
       "    .dataframe tbody tr th:only-of-type {\n",
       "        vertical-align: middle;\n",
       "    }\n",
       "\n",
       "    .dataframe tbody tr th {\n",
       "        vertical-align: top;\n",
       "    }\n",
       "\n",
       "    .dataframe thead th {\n",
       "        text-align: right;\n",
       "    }\n",
       "</style>\n",
       "<table border=\"1\" class=\"dataframe\">\n",
       "  <thead>\n",
       "    <tr style=\"text-align: right;\">\n",
       "      <th></th>\n",
       "      <th>feature</th>\n",
       "      <th>spearman</th>\n",
       "      <th>kendall</th>\n",
       "      <th>coefficient</th>\n",
       "    </tr>\n",
       "  </thead>\n",
       "  <tbody>\n",
       "    <tr>\n",
       "      <th>0</th>\n",
       "      <td>point_of_interest</td>\n",
       "      <td>-0.168992</td>\n",
       "      <td>-0.149278</td>\n",
       "      <td>-6.378495e-01</td>\n",
       "    </tr>\n",
       "    <tr>\n",
       "      <th>1</th>\n",
       "      <td>lodging</td>\n",
       "      <td>-0.168157</td>\n",
       "      <td>-0.133221</td>\n",
       "      <td>-6.574474e-01</td>\n",
       "    </tr>\n",
       "    <tr>\n",
       "      <th>2</th>\n",
       "      <td>doctor</td>\n",
       "      <td>-0.164150</td>\n",
       "      <td>-0.123987</td>\n",
       "      <td>-2.497122e-01</td>\n",
       "    </tr>\n",
       "    <tr>\n",
       "      <th>3</th>\n",
       "      <td>gym</td>\n",
       "      <td>-0.156650</td>\n",
       "      <td>-0.122068</td>\n",
       "      <td>-9.552990e-01</td>\n",
       "    </tr>\n",
       "    <tr>\n",
       "      <th>4</th>\n",
       "      <td>local_government_office</td>\n",
       "      <td>-0.148519</td>\n",
       "      <td>-0.120082</td>\n",
       "      <td>9.081309e-02</td>\n",
       "    </tr>\n",
       "    <tr>\n",
       "      <th>5</th>\n",
       "      <td>store</td>\n",
       "      <td>-0.140584</td>\n",
       "      <td>-0.107914</td>\n",
       "      <td>-2.988933e-02</td>\n",
       "    </tr>\n",
       "    <tr>\n",
       "      <th>6</th>\n",
       "      <td>school</td>\n",
       "      <td>-0.091464</td>\n",
       "      <td>-0.067460</td>\n",
       "      <td>-4.613813e-02</td>\n",
       "    </tr>\n",
       "    <tr>\n",
       "      <th>7</th>\n",
       "      <td>transit_station</td>\n",
       "      <td>-0.058164</td>\n",
       "      <td>-0.042323</td>\n",
       "      <td>3.012792e-01</td>\n",
       "    </tr>\n",
       "    <tr>\n",
       "      <th>8</th>\n",
       "      <td>food</td>\n",
       "      <td>0.017266</td>\n",
       "      <td>0.016786</td>\n",
       "      <td>5.942144e-01</td>\n",
       "    </tr>\n",
       "    <tr>\n",
       "      <th>9</th>\n",
       "      <td>supermarket</td>\n",
       "      <td>0.265039</td>\n",
       "      <td>0.234708</td>\n",
       "      <td>4.041820e+00</td>\n",
       "    </tr>\n",
       "    <tr>\n",
       "      <th>10</th>\n",
       "      <td>entertainment</td>\n",
       "      <td>NaN</td>\n",
       "      <td>NaN</td>\n",
       "      <td>-1.000000e-15</td>\n",
       "    </tr>\n",
       "    <tr>\n",
       "      <th>11</th>\n",
       "      <td>place_of_worship</td>\n",
       "      <td>NaN</td>\n",
       "      <td>NaN</td>\n",
       "      <td>0.000000e+00</td>\n",
       "    </tr>\n",
       "    <tr>\n",
       "      <th>12</th>\n",
       "      <td>establishment</td>\n",
       "      <td>NaN</td>\n",
       "      <td>NaN</td>\n",
       "      <td>0.000000e+00</td>\n",
       "    </tr>\n",
       "  </tbody>\n",
       "</table>\n",
       "</div>"
      ],
      "text/plain": [
       "                    feature  spearman   kendall   coefficient\n",
       "0         point_of_interest -0.168992 -0.149278 -6.378495e-01\n",
       "1                   lodging -0.168157 -0.133221 -6.574474e-01\n",
       "2                    doctor -0.164150 -0.123987 -2.497122e-01\n",
       "3                       gym -0.156650 -0.122068 -9.552990e-01\n",
       "4   local_government_office -0.148519 -0.120082  9.081309e-02\n",
       "5                     store -0.140584 -0.107914 -2.988933e-02\n",
       "6                    school -0.091464 -0.067460 -4.613813e-02\n",
       "7           transit_station -0.058164 -0.042323  3.012792e-01\n",
       "8                      food  0.017266  0.016786  5.942144e-01\n",
       "9               supermarket  0.265039  0.234708  4.041820e+00\n",
       "10            entertainment       NaN       NaN -1.000000e-15\n",
       "11         place_of_worship       NaN       NaN  0.000000e+00\n",
       "12            establishment       NaN       NaN  0.000000e+00"
      ]
     },
     "execution_count": 466,
     "metadata": {},
     "output_type": "execute_result"
    }
   ],
   "source": [
    "lm_coefs = pd.DataFrame({'feature': X_train.columns, 'coefficient': reg_lm.coef_}).round(15)\n",
    "pd.merge(left=final_y_correlation_df, right=lm_coefs, left_on='feature', right_on='feature', how='inner')"
   ]
  },
  {
   "cell_type": "code",
   "execution_count": 467,
   "metadata": {},
   "outputs": [
    {
     "ename": "KeyError",
     "evalue": "'final_y'",
     "output_type": "error",
     "traceback": [
      "\u001b[0;31m---------------------------------------------------------------------------\u001b[0m",
      "\u001b[0;31mKeyError\u001b[0m                                  Traceback (most recent call last)",
      "\u001b[0;32m/Library/Python/anaconda3/lib/python3.7/site-packages/pandas/core/indexes/base.py\u001b[0m in \u001b[0;36mget_loc\u001b[0;34m(self, key, method, tolerance)\u001b[0m\n\u001b[1;32m   2894\u001b[0m             \u001b[0;32mtry\u001b[0m\u001b[0;34m:\u001b[0m\u001b[0;34m\u001b[0m\u001b[0;34m\u001b[0m\u001b[0m\n\u001b[0;32m-> 2895\u001b[0;31m                 \u001b[0;32mreturn\u001b[0m \u001b[0mself\u001b[0m\u001b[0;34m.\u001b[0m\u001b[0m_engine\u001b[0m\u001b[0;34m.\u001b[0m\u001b[0mget_loc\u001b[0m\u001b[0;34m(\u001b[0m\u001b[0mcasted_key\u001b[0m\u001b[0;34m)\u001b[0m\u001b[0;34m\u001b[0m\u001b[0;34m\u001b[0m\u001b[0m\n\u001b[0m\u001b[1;32m   2896\u001b[0m             \u001b[0;32mexcept\u001b[0m \u001b[0mKeyError\u001b[0m \u001b[0;32mas\u001b[0m \u001b[0merr\u001b[0m\u001b[0;34m:\u001b[0m\u001b[0;34m\u001b[0m\u001b[0;34m\u001b[0m\u001b[0m\n",
      "\u001b[0;32mpandas/_libs/index.pyx\u001b[0m in \u001b[0;36mpandas._libs.index.IndexEngine.get_loc\u001b[0;34m()\u001b[0m\n",
      "\u001b[0;32mpandas/_libs/index.pyx\u001b[0m in \u001b[0;36mpandas._libs.index.IndexEngine.get_loc\u001b[0;34m()\u001b[0m\n",
      "\u001b[0;32mpandas/_libs/hashtable_class_helper.pxi\u001b[0m in \u001b[0;36mpandas._libs.hashtable.PyObjectHashTable.get_item\u001b[0;34m()\u001b[0m\n",
      "\u001b[0;32mpandas/_libs/hashtable_class_helper.pxi\u001b[0m in \u001b[0;36mpandas._libs.hashtable.PyObjectHashTable.get_item\u001b[0;34m()\u001b[0m\n",
      "\u001b[0;31mKeyError\u001b[0m: 'final_y'",
      "\nThe above exception was the direct cause of the following exception:\n",
      "\u001b[0;31mKeyError\u001b[0m                                  Traceback (most recent call last)",
      "\u001b[0;32m<ipython-input-467-a8ab2b74872b>\u001b[0m in \u001b[0;36m<module>\u001b[0;34m\u001b[0m\n\u001b[0;32m----> 1\u001b[0;31m \u001b[0msquared_error\u001b[0m \u001b[0;34m=\u001b[0m \u001b[0;34m(\u001b[0m\u001b[0mcomp\u001b[0m\u001b[0;34m[\u001b[0m\u001b[0;34m'linear_reg_prediction'\u001b[0m\u001b[0;34m]\u001b[0m\u001b[0;34m-\u001b[0m\u001b[0mcomp\u001b[0m\u001b[0;34m[\u001b[0m\u001b[0;34m'final_y'\u001b[0m\u001b[0;34m]\u001b[0m\u001b[0;34m)\u001b[0m\u001b[0;34m**\u001b[0m\u001b[0;36m2\u001b[0m\u001b[0;34m\u001b[0m\u001b[0;34m\u001b[0m\u001b[0m\n\u001b[0m\u001b[1;32m      2\u001b[0m \u001b[0msns\u001b[0m\u001b[0;34m.\u001b[0m\u001b[0mregplot\u001b[0m\u001b[0;34m(\u001b[0m\u001b[0mx\u001b[0m\u001b[0;34m=\u001b[0m\u001b[0mcomp\u001b[0m\u001b[0;34m[\u001b[0m\u001b[0;34m'final_y'\u001b[0m\u001b[0;34m]\u001b[0m\u001b[0;34m,\u001b[0m \u001b[0my\u001b[0m\u001b[0;34m=\u001b[0m\u001b[0msquared_error\u001b[0m\u001b[0;34m)\u001b[0m\u001b[0;34m\u001b[0m\u001b[0;34m\u001b[0m\u001b[0m\n\u001b[1;32m      3\u001b[0m \u001b[0mplt\u001b[0m\u001b[0;34m.\u001b[0m\u001b[0mtitle\u001b[0m\u001b[0;34m(\u001b[0m\u001b[0;34m'Training Squard Error for Linear Model'\u001b[0m\u001b[0;34m)\u001b[0m\u001b[0;34m\u001b[0m\u001b[0;34m\u001b[0m\u001b[0m\n\u001b[1;32m      4\u001b[0m \u001b[0mplt\u001b[0m\u001b[0;34m.\u001b[0m\u001b[0mylabel\u001b[0m\u001b[0;34m(\u001b[0m\u001b[0;34m'Squared error'\u001b[0m\u001b[0;34m)\u001b[0m\u001b[0;34m\u001b[0m\u001b[0;34m\u001b[0m\u001b[0m\n",
      "\u001b[0;32m/Library/Python/anaconda3/lib/python3.7/site-packages/pandas/core/frame.py\u001b[0m in \u001b[0;36m__getitem__\u001b[0;34m(self, key)\u001b[0m\n\u001b[1;32m   2904\u001b[0m             \u001b[0;32mif\u001b[0m \u001b[0mself\u001b[0m\u001b[0;34m.\u001b[0m\u001b[0mcolumns\u001b[0m\u001b[0;34m.\u001b[0m\u001b[0mnlevels\u001b[0m \u001b[0;34m>\u001b[0m \u001b[0;36m1\u001b[0m\u001b[0;34m:\u001b[0m\u001b[0;34m\u001b[0m\u001b[0;34m\u001b[0m\u001b[0m\n\u001b[1;32m   2905\u001b[0m                 \u001b[0;32mreturn\u001b[0m \u001b[0mself\u001b[0m\u001b[0;34m.\u001b[0m\u001b[0m_getitem_multilevel\u001b[0m\u001b[0;34m(\u001b[0m\u001b[0mkey\u001b[0m\u001b[0;34m)\u001b[0m\u001b[0;34m\u001b[0m\u001b[0;34m\u001b[0m\u001b[0m\n\u001b[0;32m-> 2906\u001b[0;31m             \u001b[0mindexer\u001b[0m \u001b[0;34m=\u001b[0m \u001b[0mself\u001b[0m\u001b[0;34m.\u001b[0m\u001b[0mcolumns\u001b[0m\u001b[0;34m.\u001b[0m\u001b[0mget_loc\u001b[0m\u001b[0;34m(\u001b[0m\u001b[0mkey\u001b[0m\u001b[0;34m)\u001b[0m\u001b[0;34m\u001b[0m\u001b[0;34m\u001b[0m\u001b[0m\n\u001b[0m\u001b[1;32m   2907\u001b[0m             \u001b[0;32mif\u001b[0m \u001b[0mis_integer\u001b[0m\u001b[0;34m(\u001b[0m\u001b[0mindexer\u001b[0m\u001b[0;34m)\u001b[0m\u001b[0;34m:\u001b[0m\u001b[0;34m\u001b[0m\u001b[0;34m\u001b[0m\u001b[0m\n\u001b[1;32m   2908\u001b[0m                 \u001b[0mindexer\u001b[0m \u001b[0;34m=\u001b[0m \u001b[0;34m[\u001b[0m\u001b[0mindexer\u001b[0m\u001b[0;34m]\u001b[0m\u001b[0;34m\u001b[0m\u001b[0;34m\u001b[0m\u001b[0m\n",
      "\u001b[0;32m/Library/Python/anaconda3/lib/python3.7/site-packages/pandas/core/indexes/base.py\u001b[0m in \u001b[0;36mget_loc\u001b[0;34m(self, key, method, tolerance)\u001b[0m\n\u001b[1;32m   2895\u001b[0m                 \u001b[0;32mreturn\u001b[0m \u001b[0mself\u001b[0m\u001b[0;34m.\u001b[0m\u001b[0m_engine\u001b[0m\u001b[0;34m.\u001b[0m\u001b[0mget_loc\u001b[0m\u001b[0;34m(\u001b[0m\u001b[0mcasted_key\u001b[0m\u001b[0;34m)\u001b[0m\u001b[0;34m\u001b[0m\u001b[0;34m\u001b[0m\u001b[0m\n\u001b[1;32m   2896\u001b[0m             \u001b[0;32mexcept\u001b[0m \u001b[0mKeyError\u001b[0m \u001b[0;32mas\u001b[0m \u001b[0merr\u001b[0m\u001b[0;34m:\u001b[0m\u001b[0;34m\u001b[0m\u001b[0;34m\u001b[0m\u001b[0m\n\u001b[0;32m-> 2897\u001b[0;31m                 \u001b[0;32mraise\u001b[0m \u001b[0mKeyError\u001b[0m\u001b[0;34m(\u001b[0m\u001b[0mkey\u001b[0m\u001b[0;34m)\u001b[0m \u001b[0;32mfrom\u001b[0m \u001b[0merr\u001b[0m\u001b[0;34m\u001b[0m\u001b[0;34m\u001b[0m\u001b[0m\n\u001b[0m\u001b[1;32m   2898\u001b[0m \u001b[0;34m\u001b[0m\u001b[0m\n\u001b[1;32m   2899\u001b[0m         \u001b[0;32mif\u001b[0m \u001b[0mtolerance\u001b[0m \u001b[0;32mis\u001b[0m \u001b[0;32mnot\u001b[0m \u001b[0;32mNone\u001b[0m\u001b[0;34m:\u001b[0m\u001b[0;34m\u001b[0m\u001b[0;34m\u001b[0m\u001b[0m\n",
      "\u001b[0;31mKeyError\u001b[0m: 'final_y'"
     ]
    }
   ],
   "source": [
    "squared_error = (comp['linear_reg_prediction']-comp['final_y'])**2\n",
    "sns.regplot(x=comp['final_y'], y=squared_error)\n",
    "plt.title('Training Squard Error for Linear Model')\n",
    "plt.ylabel('Squared error')"
   ]
  },
  {
   "cell_type": "code",
   "execution_count": null,
   "metadata": {},
   "outputs": [],
   "source": [
    "predicted = (comp['linear_reg_prediction'])\n",
    "sns.regplot(x=comp['final_y'], y=predicted)\n",
    "plt.title('Training Squard Error for Linear Model')"
   ]
  },
  {
   "cell_type": "markdown",
   "metadata": {},
   "source": [
    "## Ridge Regression"
   ]
  },
  {
   "cell_type": "code",
   "execution_count": 468,
   "metadata": {},
   "outputs": [
    {
     "data": {
      "text/plain": [
       "Ridge(alpha=100, copy_X=True, fit_intercept=True, max_iter=None,\n",
       "   normalize=False, random_state=None, solver='auto', tol=0.001)"
      ]
     },
     "execution_count": 468,
     "metadata": {},
     "output_type": "execute_result"
    }
   ],
   "source": [
    "ridge_model = Ridge(alpha=100, fit_intercept=True)\n",
    "ridge_model.fit(X_train, y_train)"
   ]
  },
  {
   "cell_type": "code",
   "execution_count": 469,
   "metadata": {},
   "outputs": [
    {
     "name": "stdout",
     "output_type": "stream",
     "text": [
      "250.19946493662445\n"
     ]
    }
   ],
   "source": [
    "ridge_train_error = mean_squared_error(y_train, ridge_model.predict(X_train))\n",
    "print(ridge_train_error)"
   ]
  },
  {
   "cell_type": "code",
   "execution_count": 470,
   "metadata": {},
   "outputs": [],
   "source": [
    "x_train_prime, x_valid, y_train_prime, y_valid = train_test_split(X_train, y_train, test_size=0.10, random_state=0)"
   ]
  },
  {
   "cell_type": "code",
   "execution_count": 471,
   "metadata": {},
   "outputs": [
    {
     "name": "stdout",
     "output_type": "stream",
     "text": [
      "719.6856730011514\n"
     ]
    }
   ],
   "source": [
    "\n",
    "alphas = 10 ** np.linspace(-3, 4, num=50, endpoint=True)\n",
    "\n",
    "def model_ridge(x_train, y_train, x_valid, y_valid, alpha):\n",
    "    ## initialize Ridge model using corresponding alpha and fit intercept\n",
    "    m = Ridge(alpha=alpha, fit_intercept=True)\n",
    "    \n",
    "    ## Fit to the training data\n",
    "    m.fit(x_train, y_train)\n",
    "    \n",
    "    ## predict on the validation data and calculate MSE\n",
    "    return mean_squared_error(y_valid, m.predict(x_valid)) ## requires sklearn mean_squared_error\n",
    "\n",
    "\n",
    "alpha_best = alphas[np.argmin([ model_ridge(x_train_prime, y_train_prime, x_valid, y_valid, a) for a in alphas])]\n",
    "print(alpha_best)"
   ]
  },
  {
   "cell_type": "code",
   "execution_count": 472,
   "metadata": {},
   "outputs": [
    {
     "name": "stdout",
     "output_type": "stream",
     "text": [
      "415.8632714789818\n"
     ]
    }
   ],
   "source": [
    "optimized_ridge = Ridge(alpha=alpha_best, fit_intercept=True)\n",
    "optimized_ridge.fit(X_train, y_train)\n",
    "\n",
    "tuned_ridge_test_error = mean_squared_error(y_test, optimized_ridge.predict(X_test))\n",
    "print(tuned_ridge_test_error)"
   ]
  },
  {
   "cell_type": "code",
   "execution_count": 473,
   "metadata": {},
   "outputs": [],
   "source": [
    "comp['ridge_reg_prediction'] = optimized_ridge.predict(X_train)\n",
    "comp_test['ridge_reg_prediction'] = optimized_ridge.predict(X_test)"
   ]
  },
  {
   "cell_type": "code",
   "execution_count": 476,
   "metadata": {},
   "outputs": [
    {
     "ename": "KeyError",
     "evalue": "'final_y'",
     "output_type": "error",
     "traceback": [
      "\u001b[0;31m---------------------------------------------------------------------------\u001b[0m",
      "\u001b[0;31mKeyError\u001b[0m                                  Traceback (most recent call last)",
      "\u001b[0;32m/Library/Python/anaconda3/lib/python3.7/site-packages/pandas/core/indexes/base.py\u001b[0m in \u001b[0;36mget_loc\u001b[0;34m(self, key, method, tolerance)\u001b[0m\n\u001b[1;32m   2894\u001b[0m             \u001b[0;32mtry\u001b[0m\u001b[0;34m:\u001b[0m\u001b[0;34m\u001b[0m\u001b[0;34m\u001b[0m\u001b[0m\n\u001b[0;32m-> 2895\u001b[0;31m                 \u001b[0;32mreturn\u001b[0m \u001b[0mself\u001b[0m\u001b[0;34m.\u001b[0m\u001b[0m_engine\u001b[0m\u001b[0;34m.\u001b[0m\u001b[0mget_loc\u001b[0m\u001b[0;34m(\u001b[0m\u001b[0mcasted_key\u001b[0m\u001b[0;34m)\u001b[0m\u001b[0;34m\u001b[0m\u001b[0;34m\u001b[0m\u001b[0m\n\u001b[0m\u001b[1;32m   2896\u001b[0m             \u001b[0;32mexcept\u001b[0m \u001b[0mKeyError\u001b[0m \u001b[0;32mas\u001b[0m \u001b[0merr\u001b[0m\u001b[0;34m:\u001b[0m\u001b[0;34m\u001b[0m\u001b[0;34m\u001b[0m\u001b[0m\n",
      "\u001b[0;32mpandas/_libs/index.pyx\u001b[0m in \u001b[0;36mpandas._libs.index.IndexEngine.get_loc\u001b[0;34m()\u001b[0m\n",
      "\u001b[0;32mpandas/_libs/index.pyx\u001b[0m in \u001b[0;36mpandas._libs.index.IndexEngine.get_loc\u001b[0;34m()\u001b[0m\n",
      "\u001b[0;32mpandas/_libs/hashtable_class_helper.pxi\u001b[0m in \u001b[0;36mpandas._libs.hashtable.PyObjectHashTable.get_item\u001b[0;34m()\u001b[0m\n",
      "\u001b[0;32mpandas/_libs/hashtable_class_helper.pxi\u001b[0m in \u001b[0;36mpandas._libs.hashtable.PyObjectHashTable.get_item\u001b[0;34m()\u001b[0m\n",
      "\u001b[0;31mKeyError\u001b[0m: 'final_y'",
      "\nThe above exception was the direct cause of the following exception:\n",
      "\u001b[0;31mKeyError\u001b[0m                                  Traceback (most recent call last)",
      "\u001b[0;32m<ipython-input-476-718f866d3883>\u001b[0m in \u001b[0;36m<module>\u001b[0;34m\u001b[0m\n\u001b[0;32m----> 1\u001b[0;31m \u001b[0msquared_error\u001b[0m \u001b[0;34m=\u001b[0m \u001b[0;34m(\u001b[0m\u001b[0mcomp\u001b[0m\u001b[0;34m[\u001b[0m\u001b[0;34m'ridge_reg_prediction'\u001b[0m\u001b[0;34m]\u001b[0m\u001b[0;34m-\u001b[0m\u001b[0mcomp\u001b[0m\u001b[0;34m[\u001b[0m\u001b[0;34m'final_y'\u001b[0m\u001b[0;34m]\u001b[0m\u001b[0;34m)\u001b[0m\u001b[0;34m**\u001b[0m\u001b[0;36m2\u001b[0m\u001b[0;34m\u001b[0m\u001b[0;34m\u001b[0m\u001b[0m\n\u001b[0m\u001b[1;32m      2\u001b[0m \u001b[0msns\u001b[0m\u001b[0;34m.\u001b[0m\u001b[0mregplot\u001b[0m\u001b[0;34m(\u001b[0m\u001b[0mx\u001b[0m\u001b[0;34m=\u001b[0m\u001b[0mcomp\u001b[0m\u001b[0;34m[\u001b[0m\u001b[0;34m'final_y'\u001b[0m\u001b[0;34m]\u001b[0m\u001b[0;34m,\u001b[0m \u001b[0my\u001b[0m\u001b[0;34m=\u001b[0m\u001b[0msquared_error\u001b[0m\u001b[0;34m)\u001b[0m\u001b[0;34m\u001b[0m\u001b[0;34m\u001b[0m\u001b[0m\n\u001b[1;32m      3\u001b[0m \u001b[0mplt\u001b[0m\u001b[0;34m.\u001b[0m\u001b[0mtitle\u001b[0m\u001b[0;34m(\u001b[0m\u001b[0;34m'Training Squard Error for Ridge Regression Model'\u001b[0m\u001b[0;34m)\u001b[0m\u001b[0;34m\u001b[0m\u001b[0;34m\u001b[0m\u001b[0m\n\u001b[1;32m      4\u001b[0m \u001b[0mplt\u001b[0m\u001b[0;34m.\u001b[0m\u001b[0mylabel\u001b[0m\u001b[0;34m(\u001b[0m\u001b[0;34m'Squared error'\u001b[0m\u001b[0;34m)\u001b[0m\u001b[0;34m\u001b[0m\u001b[0;34m\u001b[0m\u001b[0m\n",
      "\u001b[0;32m/Library/Python/anaconda3/lib/python3.7/site-packages/pandas/core/frame.py\u001b[0m in \u001b[0;36m__getitem__\u001b[0;34m(self, key)\u001b[0m\n\u001b[1;32m   2904\u001b[0m             \u001b[0;32mif\u001b[0m \u001b[0mself\u001b[0m\u001b[0;34m.\u001b[0m\u001b[0mcolumns\u001b[0m\u001b[0;34m.\u001b[0m\u001b[0mnlevels\u001b[0m \u001b[0;34m>\u001b[0m \u001b[0;36m1\u001b[0m\u001b[0;34m:\u001b[0m\u001b[0;34m\u001b[0m\u001b[0;34m\u001b[0m\u001b[0m\n\u001b[1;32m   2905\u001b[0m                 \u001b[0;32mreturn\u001b[0m \u001b[0mself\u001b[0m\u001b[0;34m.\u001b[0m\u001b[0m_getitem_multilevel\u001b[0m\u001b[0;34m(\u001b[0m\u001b[0mkey\u001b[0m\u001b[0;34m)\u001b[0m\u001b[0;34m\u001b[0m\u001b[0;34m\u001b[0m\u001b[0m\n\u001b[0;32m-> 2906\u001b[0;31m             \u001b[0mindexer\u001b[0m \u001b[0;34m=\u001b[0m \u001b[0mself\u001b[0m\u001b[0;34m.\u001b[0m\u001b[0mcolumns\u001b[0m\u001b[0;34m.\u001b[0m\u001b[0mget_loc\u001b[0m\u001b[0;34m(\u001b[0m\u001b[0mkey\u001b[0m\u001b[0;34m)\u001b[0m\u001b[0;34m\u001b[0m\u001b[0;34m\u001b[0m\u001b[0m\n\u001b[0m\u001b[1;32m   2907\u001b[0m             \u001b[0;32mif\u001b[0m \u001b[0mis_integer\u001b[0m\u001b[0;34m(\u001b[0m\u001b[0mindexer\u001b[0m\u001b[0;34m)\u001b[0m\u001b[0;34m:\u001b[0m\u001b[0;34m\u001b[0m\u001b[0;34m\u001b[0m\u001b[0m\n\u001b[1;32m   2908\u001b[0m                 \u001b[0mindexer\u001b[0m \u001b[0;34m=\u001b[0m \u001b[0;34m[\u001b[0m\u001b[0mindexer\u001b[0m\u001b[0;34m]\u001b[0m\u001b[0;34m\u001b[0m\u001b[0;34m\u001b[0m\u001b[0m\n",
      "\u001b[0;32m/Library/Python/anaconda3/lib/python3.7/site-packages/pandas/core/indexes/base.py\u001b[0m in \u001b[0;36mget_loc\u001b[0;34m(self, key, method, tolerance)\u001b[0m\n\u001b[1;32m   2895\u001b[0m                 \u001b[0;32mreturn\u001b[0m \u001b[0mself\u001b[0m\u001b[0;34m.\u001b[0m\u001b[0m_engine\u001b[0m\u001b[0;34m.\u001b[0m\u001b[0mget_loc\u001b[0m\u001b[0;34m(\u001b[0m\u001b[0mcasted_key\u001b[0m\u001b[0;34m)\u001b[0m\u001b[0;34m\u001b[0m\u001b[0;34m\u001b[0m\u001b[0m\n\u001b[1;32m   2896\u001b[0m             \u001b[0;32mexcept\u001b[0m \u001b[0mKeyError\u001b[0m \u001b[0;32mas\u001b[0m \u001b[0merr\u001b[0m\u001b[0;34m:\u001b[0m\u001b[0;34m\u001b[0m\u001b[0;34m\u001b[0m\u001b[0m\n\u001b[0;32m-> 2897\u001b[0;31m                 \u001b[0;32mraise\u001b[0m \u001b[0mKeyError\u001b[0m\u001b[0;34m(\u001b[0m\u001b[0mkey\u001b[0m\u001b[0;34m)\u001b[0m \u001b[0;32mfrom\u001b[0m \u001b[0merr\u001b[0m\u001b[0;34m\u001b[0m\u001b[0;34m\u001b[0m\u001b[0m\n\u001b[0m\u001b[1;32m   2898\u001b[0m \u001b[0;34m\u001b[0m\u001b[0m\n\u001b[1;32m   2899\u001b[0m         \u001b[0;32mif\u001b[0m \u001b[0mtolerance\u001b[0m \u001b[0;32mis\u001b[0m \u001b[0;32mnot\u001b[0m \u001b[0;32mNone\u001b[0m\u001b[0;34m:\u001b[0m\u001b[0;34m\u001b[0m\u001b[0;34m\u001b[0m\u001b[0m\n",
      "\u001b[0;31mKeyError\u001b[0m: 'final_y'"
     ]
    }
   ],
   "source": [
    "squared_error = (comp['ridge_reg_prediction']-comp['final_y'])**2\n",
    "sns.regplot(x=comp['final_y'], y=squared_error)\n",
    "plt.title('Training Squard Error for Ridge Regression Model')\n",
    "plt.ylabel('Squared error')"
   ]
  },
  {
   "cell_type": "markdown",
   "metadata": {},
   "source": [
    "## Standardized Ridge Regression"
   ]
  },
  {
   "cell_type": "code",
   "execution_count": 477,
   "metadata": {},
   "outputs": [],
   "source": [
    "scaler = StandardScaler().fit(X_train)\n",
    "X_train_std = scaler.transform(X_train)\n",
    "X_test_std = scaler.transform(X_test)\n",
    "\n",
    "x_train_prime, x_valid, y_train_prime, y_valid = train_test_split(X_train_std, y_train, test_size=0.10, random_state=0)"
   ]
  },
  {
   "cell_type": "code",
   "execution_count": 478,
   "metadata": {},
   "outputs": [
    {
     "name": "stdout",
     "output_type": "stream",
     "text": [
      "51.794746792312125\n"
     ]
    }
   ],
   "source": [
    "\n",
    "alphas = 10 ** np.linspace(-3, 4, num=50, endpoint=True)\n",
    "\n",
    "def model_ridge(x_train, y_train, x_valid, y_valid, alpha):\n",
    "    ## initialize Ridge model using corresponding alpha and fit intercept\n",
    "    m = Ridge(alpha=alpha, fit_intercept=True)\n",
    "    \n",
    "    ## Fit to the training data\n",
    "    m.fit(x_train, y_train)\n",
    "    \n",
    "    ## predict on the validation data and calculate MSE\n",
    "    return mean_squared_error(y_valid, m.predict(x_valid)) ## requires sklearn mean_squared_error\n",
    "\n",
    "\n",
    "alpha_best = alphas[np.argmin([ model_ridge(x_train_prime, y_train_prime, x_valid, y_valid, a) for a in alphas])]\n",
    "print(alpha_best)"
   ]
  },
  {
   "cell_type": "code",
   "execution_count": 479,
   "metadata": {},
   "outputs": [
    {
     "name": "stdout",
     "output_type": "stream",
     "text": [
      "386.1302112232436\n"
     ]
    }
   ],
   "source": [
    "optimized_ridge = Ridge(alpha=alpha_best, fit_intercept=True)\n",
    "optimized_ridge.fit(X_train_std, y_train)\n",
    "\n",
    "tuned_ridge_test_error = mean_squared_error(y_test, optimized_ridge.predict(X_test_std))\n",
    "print(tuned_ridge_test_error)"
   ]
  },
  {
   "cell_type": "code",
   "execution_count": 480,
   "metadata": {},
   "outputs": [],
   "source": [
    "comp['std_ridge_reg_prediction'] = optimized_ridge.predict(X_train)\n",
    "comp_test['std_ridge_reg_prediction'] = optimized_ridge.predict(X_test)"
   ]
  },
  {
   "cell_type": "code",
   "execution_count": 481,
   "metadata": {},
   "outputs": [
    {
     "data": {
      "text/plain": [
       "<AxesSubplot:xlabel='power_kwh_num'>"
      ]
     },
     "execution_count": 481,
     "metadata": {},
     "output_type": "execute_result"
    },
    {
     "data": {
      "image/png": "[encoded data removed]",
      "text/plain": [
       "<Figure size 432x288 with 1 Axes>"
      ]
     },
     "metadata": {
      "needs_background": "light"
     },
     "output_type": "display_data"
    }
   ],
   "source": [
    "sns.regplot(data=comp, x=y_col, y=(comp['linear_reg_prediction']-comp[y_col])**2)"
   ]
  },
  {
   "cell_type": "markdown",
   "metadata": {},
   "source": [
    "## Classification Models"
   ]
  },
  {
   "cell_type": "code",
   "execution_count": 503,
   "metadata": {},
   "outputs": [],
   "source": [
    "y_train_classes = y_train.astype(str)\n",
    "y_test_classes = y_test.astype(str)"
   ]
  },
  {
   "cell_type": "code",
   "execution_count": 504,
   "metadata": {},
   "outputs": [
    {
     "data": {
      "text/plain": [
       "13"
      ]
     },
     "execution_count": 504,
     "metadata": {},
     "output_type": "execute_result"
    }
   ],
   "source": [
    "len(X_train.columns)"
   ]
  },
  {
   "cell_type": "markdown",
   "metadata": {},
   "source": [
    "### Logistic Regression"
   ]
  },
  {
   "cell_type": "code",
   "execution_count": 483,
   "metadata": {},
   "outputs": [
    {
     "name": "stdout",
     "output_type": "stream",
     "text": [
      "Cross-Validation Accuracies: [0.625      0.47619048 0.5        0.71428571 0.58333333]\n",
      "Overall CV score is: 0.5797619047619048\n"
     ]
    }
   ],
   "source": [
    "## Demo: training a default logit model and cross-validate\n",
    "\n",
    "logit = LogisticRegression(max_iter=5000)\n",
    "cv_scores = cross_val_score(logit,X_train,y_train_classes,cv=kf)\n",
    "print (\"Cross-Validation Accuracies:\", cv_scores)\n",
    "print (\"Overall CV score is:\", np.mean(cv_scores))"
   ]
  },
  {
   "cell_type": "code",
   "execution_count": 484,
   "metadata": {},
   "outputs": [
    {
     "name": "stdout",
     "output_type": "stream",
     "text": [
      "Wall time for training & cross-validation: 10.761895461997483 second\n"
     ]
    },
    {
     "data": {
      "image/png": "[encoded data removed]",
      "text/plain": [
       "<Figure size 432x288 with 1 Axes>"
      ]
     },
     "metadata": {
      "needs_background": "light"
     },
     "output_type": "display_data"
    }
   ],
   "source": [
    "C_grid = np.logspace(-2,2,10)\n",
    "\n",
    "time_start = timer()\n",
    "\n",
    "## ran under 20 seconds which is fast\n",
    "## build a 10x5(mxn) tall grid\n",
    "m = kf.get_n_splits()\n",
    "n = len(C_grid)\n",
    "train_scores = [[0 for garbo_j in range(m)] for garbo_i in range(n)]\n",
    "val_scores = [[0 for garbo_j in range(m)] for garbo_i in range(n)]\n",
    "\n",
    "## Split using the KFold to grab the train and validation indices\n",
    "i=0\n",
    "for train_index, valid_index in kf.split(X_train, y_train_classes):\n",
    "    ## Use indices to find training and validation data\n",
    "    X_train_train, X_train_valid = X_train.iloc[train_index], X_train.iloc[valid_index]\n",
    "    y_train_train, y_train_valid = y_train_classes.iloc[train_index], y_train_classes.iloc[valid_index]\n",
    "    \n",
    "    for j in range(len(C_grid)):\n",
    "        ## Initialize the Logistic Regression model with appropriate params and fit to training training data\n",
    "        temp_logit = LogisticRegression(max_iter=5000, C=C_grid[j], solver='newton-cg').fit(X_train_train, y_train_train)\n",
    "        \n",
    "        ## Calculate training and validation scores and add scores to building list\n",
    "        train_scores[j][i] = temp_logit.score(X_train_train, y_train_train)\n",
    "        val_scores[j][i] = temp_logit.score(X_train_valid, y_train_valid)\n",
    "#         print(\"filled i,j\", i,j)\n",
    "    \n",
    "    i+=1\n",
    "    \n",
    "time_end = timer()\n",
    "\n",
    "print (\"Wall time for training & cross-validation: {0} second\".format(time_end-time_start))\n",
    "\n",
    "ax = plot_cv_curve(C_grid,train_scores,val_scores)\n",
    "ax.set_xlabel('C')\n",
    "ax.set_ylabel('Accuracy')\n",
    "ax.set_xscale('log')"
   ]
  },
  {
   "cell_type": "code",
   "execution_count": 485,
   "metadata": {},
   "outputs": [],
   "source": [
    "best_logit = LogisticRegression(max_iter=5000, C=3*10**-2, solver='newton-cg').fit(X_train, y_train_classes)"
   ]
  },
  {
   "cell_type": "code",
   "execution_count": 486,
   "metadata": {},
   "outputs": [],
   "source": [
    "comp['logit_reg_prediction'] = best_logit.predict(X_train)\n",
    "comp_test['logit_reg_prediction'] = best_logit.predict(X_test)"
   ]
  },
  {
   "cell_type": "markdown",
   "metadata": {},
   "source": [
    "### Linear SVM"
   ]
  },
  {
   "cell_type": "code",
   "execution_count": 487,
   "metadata": {},
   "outputs": [
    {
     "name": "stdout",
     "output_type": "stream",
     "text": [
      "Wall time for training & cross-validation: 0.5502791090038954 second\n"
     ]
    },
    {
     "data": {
      "image/png": "[encoded data removed]",
      "text/plain": [
       "<Figure size 432x288 with 1 Axes>"
      ]
     },
     "metadata": {
      "needs_background": "light"
     },
     "output_type": "display_data"
    }
   ],
   "source": [
    "C_grid = np.logspace(-2,2,9)\n",
    "## Your code here\n",
    "\n",
    "time_start = timer()\n",
    "\n",
    "## build a 9x5(mxn) tall grid\n",
    "m = kf.get_n_splits()\n",
    "n = len(C_grid)\n",
    "train_scores = [[0 for garbo_j in range(m)] for garbo_i in range(n)]\n",
    "val_scores = [[0 for garbo_j in range(m)] for garbo_i in range(n)]\n",
    "\n",
    "## Split using the KFold to grab the train and validation indices\n",
    "i=0\n",
    "for train_index, valid_index in kf.split(X_train, y_train_classes):\n",
    "    ## Initialize and it a scaler\n",
    "    scaler = StandardScaler()\n",
    "    scaler.fit(X_train.iloc[train_index])\n",
    "    \n",
    "    ## Use indices to find training and validation data\n",
    "    X_train_train, X_train_valid = scaler.transform(X_train.iloc[train_index]), scaler.transform(X_train.iloc[valid_index])\n",
    "    y_train_train, y_train_valid = y_train_classes.iloc[train_index], y_train_classes.iloc[valid_index]\n",
    "    \n",
    "    \n",
    "    \n",
    "    for j in range(len(C_grid)):\n",
    "        ## Initialize the Linear SVC model with appropriate params and fit to training training data\n",
    "        lsvc = LinearSVC(C=C_grid[j], loss='hinge', max_iter=20000).fit(X_train_train, y_train_train)\n",
    "        \n",
    "        ## Calculate training and validation scores and add scores to building list\n",
    "        train_scores[j][i] = lsvc.score(X_train_train, y_train_train)\n",
    "        val_scores[j][i] = lsvc.score(X_train_valid, y_train_valid)\n",
    "#         print(\"filled i,j\", i,j)\n",
    "    \n",
    "    i+=1\n",
    "\n",
    "time_end = timer()\n",
    "\n",
    "print (\"Wall time for training & cross-validation: {0} second\".format(time_end-time_start))\n",
    "\n",
    "\n",
    "ax = plot_cv_curve(C_grid,train_scores,val_scores)\n",
    "ax.set_xlabel('C')\n",
    "ax.set_ylabel('Accuracy')\n",
    "ax.set_xscale('log')"
   ]
  },
  {
   "cell_type": "code",
   "execution_count": 488,
   "metadata": {},
   "outputs": [
    {
     "name": "stdout",
     "output_type": "stream",
     "text": [
      "Final SVM Hyperparameters:\n",
      "LinearSVC(C=0.7000000000000001, class_weight=None, dual=True,\n",
      "     fit_intercept=True, intercept_scaling=1, loss='hinge', max_iter=1000,\n",
      "     multi_class='ovr', penalty='l2', random_state=None, tol=0.0001,\n",
      "     verbose=0)\n",
      "Overall CV score is: 0.5946428571428571\n",
      "Test Accuracy is: 0.45\n"
     ]
    }
   ],
   "source": [
    "## Example: declare a pipeline with only one stage SVC() named 'svc' with rbf kernel\n",
    "## You can overwrite clf_svm_rbf with your own classifier\n",
    "# clf_svm_rbf = Pipeline([('svc', SVC(kernel='rbf'))])\n",
    "\n",
    "linear_svm = Pipeline([('scaler', StandardScaler()), ('svc', LinearSVC(loss='hinge', C=7*10**-1))])\n",
    "linear_svm.fit(X_train, y_train_classes)\n",
    "\n",
    "\n",
    "print (\"Final SVM Hyperparameters:\")\n",
    "print (linear_svm.named_steps['svc'] if linear_svm.__class__==Pipeline else linear_svm)\n",
    "print (\"Overall CV score is:\", np.mean(cross_val_score(linear_svm,X_train,y_train_classes,cv=kf)))\n",
    "print (\"Test Accuracy is:\", metrics.accuracy_score(y_test_classes,linear_svm.predict(X_test)))"
   ]
  },
  {
   "cell_type": "code",
   "execution_count": 489,
   "metadata": {},
   "outputs": [],
   "source": [
    "comp['linear_svm_prediction'] = linear_svm.predict(X_train)\n",
    "comp_test['linear_svm_prediction'] = linear_svm.predict(X_test)"
   ]
  },
  {
   "cell_type": "markdown",
   "metadata": {},
   "source": [
    "## RBF SVM"
   ]
  },
  {
   "cell_type": "code",
   "execution_count": 490,
   "metadata": {},
   "outputs": [
    {
     "name": "stdout",
     "output_type": "stream",
     "text": [
      "Final SVM Hyperparameters:\n",
      "SVC(C=1, cache_size=200, class_weight=None, coef0=0.0,\n",
      "  decision_function_shape='ovr', degree=3, gamma='auto_deprecated',\n",
      "  kernel='rbf', max_iter=-1, probability=False, random_state=None,\n",
      "  shrinking=True, tol=0.001, verbose=False)\n",
      "Overall CV score is: 0.6380952380952382\n",
      "Test Accuracy is: 0.45\n"
     ]
    }
   ],
   "source": [
    "## Example: declare a pipeline with only one stage SVC() named 'svc' with rbf kernel\n",
    "## You can overwrite clf_svm_rbf with your own classifier\n",
    "# clf_svm_rbf = Pipeline([('svc', SVC(kernel='rbf'))])\n",
    "\n",
    "## Your code here\n",
    "clf_svm_rbf = Pipeline([('scaler', StandardScaler()), ('svc', SVC(kernel='rbf', C=1))])\n",
    "clf_svm_rbf.fit(X_train, y_train_classes)\n",
    "\n",
    "\n",
    "print (\"Final SVM Hyperparameters:\")\n",
    "print (clf_svm_rbf.named_steps['svc'] if clf_svm_rbf.__class__==Pipeline else clf_svm_rbf)\n",
    "print (\"Overall CV score is:\", np.mean(cross_val_score(clf_svm_rbf,X_train,y_train_classes,cv=kf)))\n",
    "print (\"Test Accuracy is:\", metrics.accuracy_score(y_test_classes,clf_svm_rbf.predict(X_test)))"
   ]
  },
  {
   "cell_type": "code",
   "execution_count": 491,
   "metadata": {},
   "outputs": [],
   "source": [
    "comp['svm_rbf_prediction'] = clf_svm_rbf.predict(X_train)\n",
    "comp_test['svm_rbf_prediction'] = clf_svm_rbf.predict(X_test)"
   ]
  },
  {
   "cell_type": "markdown",
   "metadata": {},
   "source": [
    "### Poly SVM"
   ]
  },
  {
   "cell_type": "code",
   "execution_count": 492,
   "metadata": {},
   "outputs": [],
   "source": [
    "## Your code here\n",
    "C_grid = np.linspace(5,15,51)\n",
    "best_test = 0\n",
    "best_train = 0\n",
    "best_c = -1\n",
    "for c in C_grid:\n",
    "    clf_svm_poly = Pipeline([('scaler', StandardScaler()), ('svc', SVC(kernel='poly', C=c, degree=1))])\n",
    "    clf_svm_poly.fit(X_train, y_train_classes)\n",
    "    #print(c)\n",
    "    #print (\"Overall CV score is:\", np.mean(cross_val_score(clf_svm_poly,X_train,y_train,cv=kf)))\n",
    "    acc = metrics.accuracy_score(y_test_classes,clf_svm_poly.predict(X_test))\n",
    "    #print (\"Test Accuracy is:\", acc)\n",
    "    if acc > best_test:\n",
    "        best_test = acc\n",
    "        best_train = np.mean(cross_val_score(clf_svm_poly,X_train,y_train_classes,cv=kf))\n",
    "        best_c=c\n"
   ]
  },
  {
   "cell_type": "code",
   "execution_count": 493,
   "metadata": {},
   "outputs": [
    {
     "name": "stdout",
     "output_type": "stream",
     "text": [
      "BEST:  5.0  >>  0.4\n"
     ]
    }
   ],
   "source": [
    "print('BEST: ',best_c, \" >> \", best_test)"
   ]
  },
  {
   "cell_type": "code",
   "execution_count": 494,
   "metadata": {},
   "outputs": [
    {
     "name": "stdout",
     "output_type": "stream",
     "text": [
      "Final SVM Hyperparameters:\n",
      "SVC(C=5.0, cache_size=200, class_weight=None, coef0=0.0,\n",
      "  decision_function_shape='ovr', degree=1, gamma='auto_deprecated',\n",
      "  kernel='poly', max_iter=-1, probability=False, random_state=None,\n",
      "  shrinking=True, tol=0.001, verbose=False)\n",
      "Overall CV score is: 0.6142857142857143\n",
      "Test Accuracy is: 0.4\n"
     ]
    }
   ],
   "source": [
    "## Your code here\n",
    "clf_svm_poly = Pipeline([('scaler', StandardScaler()), ('svc', SVC(kernel='poly', C=best_c, degree=1))])\n",
    "clf_svm_poly.fit(X_train, y_train_classes)\n",
    "\n",
    "print (\"Final SVM Hyperparameters:\")\n",
    "print (clf_svm_poly.named_steps['svc'] if clf_svm_poly.__class__==Pipeline else clf_svm_poly)\n",
    "print (\"Overall CV score is:\", np.mean(cross_val_score(clf_svm_poly,X_train,y_train_classes,cv=kf)))\n",
    "print (\"Test Accuracy is:\", metrics.accuracy_score(y_test_classes,clf_svm_poly.predict(X_test)))"
   ]
  },
  {
   "cell_type": "code",
   "execution_count": 495,
   "metadata": {},
   "outputs": [],
   "source": [
    "comp['clf_svm_poly_prediction'] = clf_svm_poly.predict(X_train)\n",
    "comp_test['clf_svm_poly_prediction'] = clf_svm_poly.predict(X_test)\n"
   ]
  },
  {
   "cell_type": "code",
   "execution_count": 496,
   "metadata": {},
   "outputs": [],
   "source": [
    "def display_accuracies(comp_df, comp_test_df, cols, y='power_kwh_num'):\n",
    "    for c in cols:\n",
    "        \n",
    "        train_wrong = comp_df[comp_df[y]!=pd.to_numeric(comp_df[c])]\n",
    "        train_correct =  comp_df[comp_df[y]==pd.to_numeric(comp_df[c])]\n",
    "        \n",
    "        test_wrong = comp_test_df[comp_test_df[y]!=pd.to_numeric(comp_test_df[c])]\n",
    "        test_correct =  comp_test_df[comp_test_df[y]==pd.to_numeric(comp_test_df[c])]\n",
    "        print(\"Incorrect training count: \", len(train_wrong))\n",
    "        print(\"  Correct training count: \", len(train_correct))\n",
    "        print(\"Incorrect test count: \", len(test_wrong))\n",
    "        print(\"  Correct test count: \", len(test_correct))\n",
    "        print('\\n', c)\n",
    "        print('  > Train Accuracy: ',  len(train_correct)/len(comp_df))\n",
    "        print('  > Test Accuracy : ',  len(test_correct)/len(comp_test_df))"
   ]
  },
  {
   "cell_type": "code",
   "execution_count": 505,
   "metadata": {},
   "outputs": [
    {
     "data": {
      "text/html": [
       "<div>\n",
       "<style scoped>\n",
       "    .dataframe tbody tr th:only-of-type {\n",
       "        vertical-align: middle;\n",
       "    }\n",
       "\n",
       "    .dataframe tbody tr th {\n",
       "        vertical-align: top;\n",
       "    }\n",
       "\n",
       "    .dataframe thead th {\n",
       "        text-align: right;\n",
       "    }\n",
       "</style>\n",
       "<table border=\"1\" class=\"dataframe\">\n",
       "  <thead>\n",
       "    <tr style=\"text-align: right;\">\n",
       "      <th></th>\n",
       "      <th>power_kwh_num</th>\n",
       "      <th>linear_reg_prediction</th>\n",
       "      <th>ridge_reg_prediction</th>\n",
       "      <th>std_ridge_reg_prediction</th>\n",
       "      <th>logit_reg_prediction</th>\n",
       "      <th>linear_svm_prediction</th>\n",
       "      <th>svm_rbf_prediction</th>\n",
       "      <th>clf_svm_poly_prediction</th>\n",
       "    </tr>\n",
       "  </thead>\n",
       "  <tbody>\n",
       "    <tr>\n",
       "      <th>43</th>\n",
       "      <td>7.2</td>\n",
       "      <td>12.963719</td>\n",
       "      <td>15.742359</td>\n",
       "      <td>84.991358</td>\n",
       "      <td>7.2</td>\n",
       "      <td>7.2</td>\n",
       "      <td>7.2</td>\n",
       "      <td>7.2</td>\n",
       "    </tr>\n",
       "    <tr>\n",
       "      <th>62</th>\n",
       "      <td>7.2</td>\n",
       "      <td>17.709786</td>\n",
       "      <td>17.603744</td>\n",
       "      <td>106.111373</td>\n",
       "      <td>7.2</td>\n",
       "      <td>7.2</td>\n",
       "      <td>7.2</td>\n",
       "      <td>7.2</td>\n",
       "    </tr>\n",
       "    <tr>\n",
       "      <th>3</th>\n",
       "      <td>50.0</td>\n",
       "      <td>17.736140</td>\n",
       "      <td>16.353067</td>\n",
       "      <td>94.104731</td>\n",
       "      <td>7.2</td>\n",
       "      <td>7.2</td>\n",
       "      <td>7.2</td>\n",
       "      <td>7.2</td>\n",
       "    </tr>\n",
       "    <tr>\n",
       "      <th>71</th>\n",
       "      <td>7.2</td>\n",
       "      <td>6.506983</td>\n",
       "      <td>9.799214</td>\n",
       "      <td>74.040887</td>\n",
       "      <td>7.2</td>\n",
       "      <td>7.2</td>\n",
       "      <td>7.2</td>\n",
       "      <td>7.2</td>\n",
       "    </tr>\n",
       "    <tr>\n",
       "      <th>45</th>\n",
       "      <td>7.2</td>\n",
       "      <td>13.607420</td>\n",
       "      <td>16.439531</td>\n",
       "      <td>88.623591</td>\n",
       "      <td>7.2</td>\n",
       "      <td>7.2</td>\n",
       "      <td>7.2</td>\n",
       "      <td>7.2</td>\n",
       "    </tr>\n",
       "  </tbody>\n",
       "</table>\n",
       "</div>"
      ],
      "text/plain": [
       "    power_kwh_num  linear_reg_prediction  ridge_reg_prediction  \\\n",
       "43            7.2              12.963719             15.742359   \n",
       "62            7.2              17.709786             17.603744   \n",
       "3            50.0              17.736140             16.353067   \n",
       "71            7.2               6.506983              9.799214   \n",
       "45            7.2              13.607420             16.439531   \n",
       "\n",
       "    std_ridge_reg_prediction logit_reg_prediction linear_svm_prediction  \\\n",
       "43                 84.991358                  7.2                   7.2   \n",
       "62                106.111373                  7.2                   7.2   \n",
       "3                  94.104731                  7.2                   7.2   \n",
       "71                 74.040887                  7.2                   7.2   \n",
       "45                 88.623591                  7.2                   7.2   \n",
       "\n",
       "   svm_rbf_prediction clf_svm_poly_prediction  \n",
       "43                7.2                     7.2  \n",
       "62                7.2                     7.2  \n",
       "3                 7.2                     7.2  \n",
       "71                7.2                     7.2  \n",
       "45                7.2                     7.2  "
      ]
     },
     "execution_count": 505,
     "metadata": {},
     "output_type": "execute_result"
    }
   ],
   "source": [
    "comp.head()"
   ]
  },
  {
   "cell_type": "code",
   "execution_count": 508,
   "metadata": {},
   "outputs": [
    {
     "data": {
      "text/html": [
       "<div>\n",
       "<style scoped>\n",
       "    .dataframe tbody tr th:only-of-type {\n",
       "        vertical-align: middle;\n",
       "    }\n",
       "\n",
       "    .dataframe tbody tr th {\n",
       "        vertical-align: top;\n",
       "    }\n",
       "\n",
       "    .dataframe thead th {\n",
       "        text-align: right;\n",
       "    }\n",
       "</style>\n",
       "<table border=\"1\" class=\"dataframe\">\n",
       "  <thead>\n",
       "    <tr style=\"text-align: right;\">\n",
       "      <th></th>\n",
       "      <th>power_kwh_num</th>\n",
       "      <th>linear_reg_prediction</th>\n",
       "      <th>ridge_reg_prediction</th>\n",
       "      <th>std_ridge_reg_prediction</th>\n",
       "      <th>logit_reg_prediction</th>\n",
       "      <th>linear_svm_prediction</th>\n",
       "      <th>svm_rbf_prediction</th>\n",
       "      <th>clf_svm_poly_prediction</th>\n",
       "    </tr>\n",
       "  </thead>\n",
       "  <tbody>\n",
       "    <tr>\n",
       "      <th>21</th>\n",
       "      <td>5.0</td>\n",
       "      <td>5.610158</td>\n",
       "      <td>11.422206</td>\n",
       "      <td>-4.172246</td>\n",
       "      <td>7.2</td>\n",
       "      <td>7.2</td>\n",
       "      <td>7.2</td>\n",
       "      <td>7.2</td>\n",
       "    </tr>\n",
       "  </tbody>\n",
       "</table>\n",
       "</div>"
      ],
      "text/plain": [
       "    power_kwh_num  linear_reg_prediction  ridge_reg_prediction  \\\n",
       "21            5.0               5.610158             11.422206   \n",
       "\n",
       "    std_ridge_reg_prediction logit_reg_prediction linear_svm_prediction  \\\n",
       "21                 -4.172246                  7.2                   7.2   \n",
       "\n",
       "   svm_rbf_prediction clf_svm_poly_prediction  \n",
       "21                7.2                     7.2  "
      ]
     },
     "execution_count": 508,
     "metadata": {},
     "output_type": "execute_result"
    }
   ],
   "source": [
    "comp[comp['power_kwh_num']==5]"
   ]
  },
  {
   "cell_type": "code",
   "execution_count": 498,
   "metadata": {},
   "outputs": [],
   "source": [
    "#sns.scatterplot(data=comp, x='final_y', y='linear_reg_prediction')"
   ]
  },
  {
   "cell_type": "code",
   "execution_count": 499,
   "metadata": {},
   "outputs": [
    {
     "name": "stdout",
     "output_type": "stream",
     "text": [
      "Incorrect training count:  28\n",
      "  Correct training count:  51\n",
      "Incorrect test count:  11\n",
      "  Correct test count:  9\n",
      "\n",
      " logit_reg_prediction\n",
      "  > Train Accuracy:  0.6455696202531646\n",
      "  > Test Accuracy :  0.45\n",
      "Incorrect training count:  26\n",
      "  Correct training count:  53\n",
      "Incorrect test count:  11\n",
      "  Correct test count:  9\n",
      "\n",
      " linear_svm_prediction\n",
      "  > Train Accuracy:  0.6708860759493671\n",
      "  > Test Accuracy :  0.45\n",
      "Incorrect training count:  30\n",
      "  Correct training count:  49\n",
      "Incorrect test count:  11\n",
      "  Correct test count:  9\n",
      "\n",
      " svm_rbf_prediction\n",
      "  > Train Accuracy:  0.620253164556962\n",
      "  > Test Accuracy :  0.45\n",
      "Incorrect training count:  26\n",
      "  Correct training count:  53\n",
      "Incorrect test count:  12\n",
      "  Correct test count:  8\n",
      "\n",
      " clf_svm_poly_prediction\n",
      "  > Train Accuracy:  0.6708860759493671\n",
      "  > Test Accuracy :  0.4\n"
     ]
    }
   ],
   "source": [
    "comparable_cols = ['logit_reg_prediction', 'clf_svm_poly_prediction', 'clf_dt_prediction',\n",
    "       'clf_rf_prediction', 'clf_ab_prediction', 'svm_rbf_prediction']\n",
    "comparable_cols = ['logit_reg_prediction', 'linear_svm_prediction',\n",
    "                   'svm_rbf_prediction','clf_svm_poly_prediction']\n",
    "\n",
    "display_accuracies(comp, comp_test, comparable_cols)"
   ]
  },
  {
   "cell_type": "code",
   "execution_count": 500,
   "metadata": {},
   "outputs": [],
   "source": [
    "labels = comp['power_kwh_num'].astype(str).unique()\n",
    "\n",
    "mod = 'clf_svm_poly_prediction'\n",
    "logit_reg_cm = confusion_matrix(comp['power_kwh_num'].astype(str), comp[mod].astype(str), labels=labels)"
   ]
  },
  {
   "cell_type": "code",
   "execution_count": 414,
   "metadata": {},
   "outputs": [
    {
     "data": {
      "text/plain": [
       "Text(0.5, 1.0, 'Confusion martix of Polynomial SVM Model\\nacross all charger types by output power (kwh)')"
      ]
     },
     "execution_count": 414,
     "metadata": {},
     "output_type": "execute_result"
    },
    {
     "data": {
      "image/png": "[encoded data removed]",
      "text/plain": [
       "<Figure size 720x504 with 2 Axes>"
      ]
     },
     "metadata": {
      "needs_background": "light"
     },
     "output_type": "display_data"
    }
   ],
   "source": [
    "str_labels = comp['power_kwh_num'].astype(str).unique()\n",
    "df_cm = pd.DataFrame(logit_reg_cm, index = [i + \" kWh\" for i in labels],\n",
    "                  columns = [i+ \" kWh\" for i in labels])\n",
    "plt.figure(figsize = (10,7))\n",
    "sns.heatmap(df_cm, annot=True)\n",
    "plt.title('Confusion martix of Polynomial SVM Model\\nacross all charger types by output power (kwh)', size=18)"
   ]
  },
  {
   "cell_type": "code",
   "execution_count": 406,
   "metadata": {},
   "outputs": [
    {
     "data": {
      "text/plain": [
       "array(['29.8 kW', '50 kW', '62.5 kW', '40.5 kW', '1 kW', '16.6 kW',\n",
       "       '5 kW', '6.24 kW', '6.7 kW', '7.2 kW', '7.7 kW'], dtype=object)"
      ]
     },
     "execution_count": 406,
     "metadata": {},
     "output_type": "execute_result"
    }
   ],
   "source": [
    "combined_y['power_kwh'].unique()"
   ]
  },
  {
   "cell_type": "code",
   "execution_count": null,
   "metadata": {},
   "outputs": [],
   "source": []
  }
 ],
 "metadata": {
  "kernelspec": {
   "display_name": "Python 3",
   "language": "python",
   "name": "python3"
  },
  "language_info": {
   "codemirror_mode": {
    "name": "ipython",
    "version": 3
   },
   "file_extension": ".py",
   "mimetype": "text/x-python",
   "name": "python",
   "nbconvert_exporter": "python",
   "pygments_lexer": "ipython3",
   "version": "3.7.3"
  }
 },
 "nbformat": 4,
 "nbformat_minor": 2
}
